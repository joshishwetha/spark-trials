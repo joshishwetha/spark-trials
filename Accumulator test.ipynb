{
 "cells": [
  {
   "cell_type": "code",
   "execution_count": 1,
   "metadata": {
    "collapsed": true
   },
   "outputs": [],
   "source": [
    "from pyspark import SparkContext\n",
    "\n",
    "sc = SparkContext('local[10]','test_accum')"
   ]
  },
  {
   "cell_type": "code",
   "execution_count": 2,
   "metadata": {
    "collapsed": true
   },
   "outputs": [],
   "source": [
    "from pyspark.accumulators import AccumulatorParam\n",
    "\n",
    "class ListAccumulatorParam(AccumulatorParam):\n",
    "    def zero(self,initialValue):\n",
    "        return initialValue\n",
    "\n",
    "    def addInPlace(self, v1, v2):\n",
    "        v1 += [v2]\n",
    "        return v1\n",
    "    \n",
    "\n",
    "def test_list_accum(x):\n",
    "    global list_accum\n",
    "    list_accum.add(x) \n",
    "    return True"
   ]
  },
  {
   "cell_type": "code",
   "execution_count": 3,
   "metadata": {
    "collapsed": false
   },
   "outputs": [
    {
     "name": "stdout",
     "output_type": "stream",
     "text": [
      "test_input_list: [0, 1, 2, 3, 4, 5, 6, 7, 8, 9, 10, 11, 12, 13, 14, 15, 16, 17, 18, 19, 20, 21, 22, 23, 24, 25, 26, 27, 28, 29, 30, 31, 32, 33, 34, 35, 36, 37, 38, 39, 40, 41, 42, 43, 44, 45, 46, 47, 48, 49]\n",
      "\n",
      " Number of partitions: 10\n",
      "\n",
      " Accumulator value: [[45, 46, 47, 48, 49], [30, 31, 32, 33, 34], [10, 11, 12, 13, 14], [25, 26, 27, 28, 29], [20, 21, 22, 23, 24], [15, 16, 17, 18, 19], [0, 1, 2, 3, 4], [5, 6, 7, 8, 9], [35, 36, 37, 38, 39], [40, 41, 42, 43, 44]]\n"
     ]
    }
   ],
   "source": [
    "### Test ListAccumulatorParam ###\n",
    "list_accum = sc.accumulator([],ListAccumulatorParam())\n",
    "test_input_list = sc.parallelize(list(range(50)))\n",
    "test_input_list.foreach(test_list_accum)\n",
    "\n",
    "print (\"test_input_list:\",test_input_list.collect())\n",
    "print (\"\\n Number of partitions:\", test_input_list.getNumPartitions())\n",
    "print (\"\\n Accumulator value:\",list_accum.value)"
   ]
  },
  {
   "cell_type": "code",
   "execution_count": null,
   "metadata": {
    "collapsed": true
   },
   "outputs": [],
   "source": []
  }
 ],
 "metadata": {
  "anaconda-cloud": {},
  "kernelspec": {
   "display_name": "Python [Root]",
   "language": "python",
   "name": "Python [Root]"
  },
  "language_info": {
   "codemirror_mode": {
    "name": "ipython",
    "version": 3
   },
   "file_extension": ".py",
   "mimetype": "text/x-python",
   "name": "python",
   "nbconvert_exporter": "python",
   "pygments_lexer": "ipython3",
   "version": "3.5.2"
  }
 },
 "nbformat": 4,
 "nbformat_minor": 0
}
